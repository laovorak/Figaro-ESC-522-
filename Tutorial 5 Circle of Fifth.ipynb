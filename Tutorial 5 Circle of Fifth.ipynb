{
 "cells": [
  {
   "cell_type": "code",
   "execution_count": 2,
   "metadata": {
    "collapsed": true
   },
   "outputs": [],
   "source": [
    "# importing esseitial libraries\n",
    "import numpy as np\n",
    "import pyaudio\n",
    "import matplotlib.pyplot as plt\n",
    "import json\n",
    "%matplotlib inline "
   ]
  },
  {
   "cell_type": "code",
   "execution_count": 3,
   "metadata": {
    "collapsed": true
   },
   "outputs": [],
   "source": [
    "# sound sampling frequency\n",
    "fs = 44100"
   ]
  },
  {
   "cell_type": "markdown",
   "metadata": {},
   "source": [
    "**Circle of Fifths**"
   ]
  },
  {
   "cell_type": "code",
   "execution_count": 12,
   "metadata": {
    "collapsed": false
   },
   "outputs": [
    {
     "name": "stdout",
     "output_type": "stream",
     "text": [
      "247.74609375\n",
      "371.619140625\n",
      "278.714355469\n",
      "418.071533203\n",
      "313.553649902\n",
      "235.165237427\n"
     ]
    }
   ],
   "source": [
    "# sine function defined as A sin(2 pi f t + phi)\n",
    "# A = amplitude\n",
    "# phi = phase\n",
    "def sine(amplitude, frequency, phase, duration, rate):\n",
    "    length = int(duration * rate)\n",
    "    return amplitude * np.sin(np.arange(length) * float(frequency) * (np.pi * 2) / rate + phase)\n",
    "\n",
    "#preparing a stream object\n",
    "p = pyaudio.PyAudio()\n",
    "stream = p.open(format=pyaudio.paFloat32,channels=1, rate=44100, output=1)\n",
    "\n",
    "steps = np.arange(13);\n",
    "#steps = np.arange(7);\n",
    "#steps = np.arange(7,13);\n",
    "\n",
    "tonic = 232.\n",
    "\n",
    "for step in steps:\n",
    "    # create a tone of sine function as a numpy array\n",
    "    freqtoPlay = tonic*1.5**step\n",
    "    \n",
    "    \n",
    "    while freqtoPlay/tonic > 2:\n",
    "            freqtoPlay = freqtoPlay/2\n",
    "    \n",
    "    print freqtoPlay\n",
    "    tone = sine(0.5, freqtoPlay, 0, 1, fs) \n",
    "    # convert type to string \n",
    "    stream.write(tone.astype(np.float32).tostring())\n",
    "\n",
    "# kill string object\n",
    "stream.close()\n",
    "p.terminate()"
   ]
  },
  {
   "cell_type": "markdown",
   "metadata": {
    "collapsed": true
   },
   "source": [
    "**Reverse Circle of Forths**"
   ]
  },
  {
   "cell_type": "code",
   "execution_count": 5,
   "metadata": {
    "collapsed": false
   },
   "outputs": [
    {
     "name": "stdout",
     "output_type": "stream",
     "text": [
      "232.0\n",
      "309.333333333\n",
      "412.444444444\n",
      "274.962962963\n",
      "366.617283951\n",
      "244.411522634\n",
      "325.882030178\n",
      "434.509373571\n",
      "289.672915714\n",
      "386.230554285\n",
      "257.48703619\n",
      "343.316048254\n",
      "457.754731005\n"
     ]
    }
   ],
   "source": [
    "# sine function defined as A sin(2 pi f t + phi)\n",
    "# A = amplitude\n",
    "# phi = phase\n",
    "def sine(amplitude, frequency, phase, duration, rate):\n",
    "    length = int(duration * rate)\n",
    "    return amplitude * np.sin(np.arange(length) * float(frequency) * (np.pi * 2) / rate + phase)\n",
    "\n",
    "#preparing a stream object\n",
    "p = pyaudio.PyAudio()\n",
    "stream = p.open(format=pyaudio.paFloat32,channels=1, rate=44100, output=1)\n",
    "\n",
    "steps = np.arange(13);\n",
    "\n",
    "tonic = 232.\n",
    "\n",
    "for step in steps:\n",
    "    # create a tone of sine function as a numpy array\n",
    "    freqtoPlay = tonic*(4./3)**step\n",
    "    \n",
    "    \n",
    "    while freqtoPlay/tonic > 2:\n",
    "            freqtoPlay = freqtoPlay/2\n",
    "    \n",
    "    print freqtoPlay\n",
    "    \n",
    "    tone = sine(0.5, freqtoPlay, 0, 1, fs) \n",
    "    # convert type to string \n",
    "    stream.write(tone.astype(np.float32).tostring())\n",
    "\n",
    "# kill string object\n",
    "stream.close()\n",
    "p.terminate()"
   ]
  },
  {
   "cell_type": "code",
   "execution_count": null,
   "metadata": {
    "collapsed": true
   },
   "outputs": [],
   "source": []
  }
 ],
 "metadata": {
  "anaconda-cloud": {},
  "kernelspec": {
   "display_name": "Python [default]",
   "language": "python",
   "name": "python2"
  },
  "language_info": {
   "codemirror_mode": {
    "name": "ipython",
    "version": 2
   },
   "file_extension": ".py",
   "mimetype": "text/x-python",
   "name": "python",
   "nbconvert_exporter": "python",
   "pygments_lexer": "ipython2",
   "version": "2.7.12"
  }
 },
 "nbformat": 4,
 "nbformat_minor": 1
}

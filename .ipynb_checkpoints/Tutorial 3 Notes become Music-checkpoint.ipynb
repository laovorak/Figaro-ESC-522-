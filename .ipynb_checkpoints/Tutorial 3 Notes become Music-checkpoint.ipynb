{
 "cells": [
  {
   "cell_type": "code",
   "execution_count": 4,
   "metadata": {
    "collapsed": true
   },
   "outputs": [],
   "source": [
    "# importing esseitial libraries\n",
    "import numpy as np\n",
    "import pyaudio\n",
    "import matplotlib.pyplot as plt\n",
    "import json\n",
    "%matplotlib inline "
   ]
  },
  {
   "cell_type": "code",
   "execution_count": 5,
   "metadata": {
    "collapsed": true
   },
   "outputs": [],
   "source": [
    "# sound sampling frequency\n",
    "fs = 44100"
   ]
  },
  {
   "cell_type": "markdown",
   "metadata": {},
   "source": [
    "**Let's Play a Tune**"
   ]
  },
  {
   "cell_type": "code",
   "execution_count": 7,
   "metadata": {
    "collapsed": false
   },
   "outputs": [],
   "source": [
    "# c major scale\n",
    "score = [(1,'c3'),(1,'d3'),(1,'e3'),(1,'f3'),(1,'g3'),(1,'a3'),(1,'b3'),(1,'c4')]\n",
    "\n",
    "#voi che sapete from Figaro\n",
    "#score = [(1,'as4'),(0.5,'f4'),(0.5,'f4'),(1,'c5'),(1,'f4'),(1,'d5'),(0.375,'as4'),(0.125,'c5'),(0.375,'d5'),(0.125,'ds5'),(1,'c5'),(1,'r'), \\\n",
    "#         (1,'d5'),(0.5,'ds5'),(0.5,'e5'),(0.75,'f5'),(0.25,'d5'),(0.5,'as4'),(0.5,'r'),(1,'c5'),(0.5,'cs5'),(0.5,'d5'),(1,'ds5'),(1,'r'),\n",
    "#         (0.5,'f5'),(0.5,'d5'),(0.5,'f5'),(0.5,'d5'),(0.5,'c5'),(0.5,'ds5'),(0.5,'c5'),(0.5,'ds5'),(1,'as4'),(0.375,'a4'),(0.0625,'as4'),(0.375,'c5'),(0.0625,'d5'),(1,'as4'),(1,'r')]\n",
    "\n",
    "def sine(amplitude, frequency, phase, duration):\n",
    "    length = int(duration * fs)\n",
    "    return amplitude * np.sin(np.arange(length) * float(frequency) * (np.pi * 2) / fs + phase)\n",
    " \n",
    "def sumPartials(duration,notetoPlay):\n",
    "    if notetoPlay == 'r':\n",
    "         sumTone = np.zeros(int(duration * fs))\n",
    "    else:\n",
    "        filename = 'sharc-angular-master/json/trombone/'+ notetoPlay +'.json'\n",
    "        partials = json.loads(open(filename).read())\n",
    "        sumTone = 0\n",
    "        for harmonic in partials['harmonics']:\n",
    "            sumTone = sumTone + sine(harmonic['amp'],harmonic['freq'], harmonic['phase'], duration)\n",
    "        sumTone = sumTone / max(sumTone)\n",
    "    return sumTone\n",
    "    \n",
    "p = pyaudio.PyAudio()\n",
    "stream = p.open(format=pyaudio.paFloat32,channels=1, rate=44100, output=1)\n",
    "\n",
    "#like above but add a for loop\n",
    "for note in score:\n",
    "    tone = sumPartials(note[0],note[1])\n",
    "    stream.write(tone.astype(np.float32).tostring())\n",
    "\n",
    "\n",
    "stream.close()\n",
    "p.terminate()"
   ]
  },
  {
   "cell_type": "code",
   "execution_count": null,
   "metadata": {
    "collapsed": true
   },
   "outputs": [],
   "source": []
  }
 ],
 "metadata": {
  "anaconda-cloud": {},
  "kernelspec": {
   "display_name": "Python [default]",
   "language": "python",
   "name": "python2"
  },
  "language_info": {
   "codemirror_mode": {
    "name": "ipython",
    "version": 2
   },
   "file_extension": ".py",
   "mimetype": "text/x-python",
   "name": "python",
   "nbconvert_exporter": "python",
   "pygments_lexer": "ipython2",
   "version": "2.7.12"
  }
 },
 "nbformat": 4,
 "nbformat_minor": 1
}

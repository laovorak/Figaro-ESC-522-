{
 "cells": [
  {
   "cell_type": "code",
   "execution_count": 2,
   "metadata": {
    "collapsed": true
   },
   "outputs": [],
   "source": [
    "# importing esseitial libraries\n",
    "import numpy as np\n",
    "import pyaudio\n",
    "import matplotlib.pyplot as plt\n",
    "import json\n",
    "%matplotlib inline "
   ]
  },
  {
   "cell_type": "code",
   "execution_count": 3,
   "metadata": {
    "collapsed": true
   },
   "outputs": [],
   "source": [
    "# sound sampling frequency\n",
    "fs = 44100"
   ]
  },
  {
   "cell_type": "markdown",
   "metadata": {},
   "source": [
    "**Harmonic Series**"
   ]
  },
  {
   "cell_type": "code",
   "execution_count": 4,
   "metadata": {
    "collapsed": false
   },
   "outputs": [],
   "source": [
    "# sine function defined as A sin(2 pi f t + phi)\n",
    "# A = amplitude\n",
    "# phi = phase\n",
    "def sine(amplitude, frequency, phase, duration, rate):\n",
    "    length = int(duration * rate)\n",
    "    return amplitude * np.sin(np.arange(length) * float(frequency) * (np.pi * 2) / rate + phase)\n",
    "\n",
    "#preparing a stream object\n",
    "p = pyaudio.PyAudio()\n",
    "stream = p.open(format=pyaudio.paFloat32,channels=1, rate=44100, output=1)\n",
    "\n",
    "harmonics = np.arange(5)+1;\n",
    "\n",
    "for harmonic in harmonics:\n",
    "    # create a tone of sine function as a numpy array\n",
    "    tone = sine(0.5, 131*harmonic, 0, 1, fs) \n",
    "    # convert type to string \n",
    "    stream.write(tone.astype(np.float32).tostring())\n",
    "\n",
    "# kill string object\n",
    "stream.close()\n",
    "p.terminate()"
   ]
  },
  {
   "cell_type": "code",
   "execution_count": null,
   "metadata": {
    "collapsed": true
   },
   "outputs": [],
   "source": []
  }
 ],
 "metadata": {
  "anaconda-cloud": {},
  "kernelspec": {
   "display_name": "Python [default]",
   "language": "python",
   "name": "python2"
  },
  "language_info": {
   "codemirror_mode": {
    "name": "ipython",
    "version": 2
   },
   "file_extension": ".py",
   "mimetype": "text/x-python",
   "name": "python",
   "nbconvert_exporter": "python",
   "pygments_lexer": "ipython2",
   "version": "2.7.12"
  }
 },
 "nbformat": 4,
 "nbformat_minor": 1
}
